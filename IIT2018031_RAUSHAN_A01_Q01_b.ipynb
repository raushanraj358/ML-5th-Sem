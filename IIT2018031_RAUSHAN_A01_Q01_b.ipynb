{
  "nbformat": 4,
  "nbformat_minor": 0,
  "metadata": {
    "colab": {
      "name": "question1_b_Mahalanobis.ipynb",
      "provenance": [],
      "collapsed_sections": []
    },
    "kernelspec": {
      "name": "python3",
      "display_name": "Python 3"
    }
  },
  "cells": [
    {
      "cell_type": "code",
      "metadata": {
        "id": "BN17UAizbfgv",
        "colab_type": "code",
        "colab": {}
      },
      "source": [
        ""
      ],
      "execution_count": null,
      "outputs": []
    },
    {
      "cell_type": "code",
      "metadata": {
        "id": "DrzthCfB6dUj",
        "colab_type": "code",
        "colab": {
          "base_uri": "https://localhost:8080/",
          "height": 69
        },
        "outputId": "6ded19ba-79b7-4be8-af6b-5b849eb23c93"
      },
      "source": [
        "\"Mahalanobis Distance\"\n",
        "\n",
        "import numpy as np\n",
        "\n",
        "x = np.array([[[1,2,3,4,5],\n",
        "               [5,6,7,8,5],\n",
        "               [5,6,7,8,5]],\n",
        "              [[11,22,23,24,5],\n",
        "               [25,26,27,28,5],\n",
        "               [5,6,7,8,5]]])\n",
        "i,j,k = x.shape\n",
        "\n",
        "xx = x.reshape(i,j*k).T\n",
        "\n",
        "\n",
        "y = np.array([[[31,32,33,34,5],\n",
        "               [35,36,37,38,5],\n",
        "               [5,6,7,8,5]],\n",
        "              [[41,42,43,44,5],\n",
        "               [45,46,47,48,5],\n",
        "               [5,6,7,8,5]]])\n",
        "\n",
        "\n",
        "yy = y.reshape(i,j*k).T\n",
        "\n",
        "def Mahalanobis(xx,yy):\n",
        "  X = np.vstack([xx,yy])\n",
        "  V = np.cov(X.T)\n",
        "  VI = np.linalg.inv(V)\n",
        "  print (np.diag(np.sqrt(np.dot(np.dot((xx-yy),VI),(xx-yy).T))))\n",
        "\n",
        "Mahalanobis(xx,yy)"
      ],
      "execution_count": 16,
      "outputs": [
        {
          "output_type": "stream",
          "text": [
            "[2.28765854 2.75165028 2.75165028 2.75165028 0.         2.75165028\n",
            " 2.75165028 2.75165028 2.75165028 0.         0.         0.\n",
            " 0.         0.         0.        ]\n"
          ],
          "name": "stdout"
        }
      ]
    }
  ]
}