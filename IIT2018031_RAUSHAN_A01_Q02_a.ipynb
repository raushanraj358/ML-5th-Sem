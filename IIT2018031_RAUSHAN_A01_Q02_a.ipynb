
import pandas as pd 
import numpy as np 
import matplotlib.pyplot as plt 
import math
import seaborn as sbn
import copy

def generatedataset(size,mean1,cov1,mean2,cov2): 
  np.random.seed(0) 
  n = int(size/2)
  Y1 = np.zeros(n)
  X1 = np.random.multivariate_normal(mean1,cov1,size=n)
  D1 = np.c_[X1,Y1]
  Y2 = np.ones(n)
  X2 = np.random.multivariate_normal(mean2,cov2,size=n)
  D2 = np.c_[X2,Y2] 
  dataset = np.concatenate((D1,D2),axis=0)
  np.random.shuffle(dataset)
  return dataset

def splitdataset(dataset):
  n = len(dataset)
  x = int(n/20)
  learnset = dataset[0:n-x]
  testset = dataset[n-x:n]
  return learnset,testset

def findneighbours(learningset,k,testval):
  dist = []
  for x in learningset:
    d = np.linalg.norm(x-testval)
    dist.append((d,x[2]))
  dist.sort()
  knn = dist[0:k]
  return knn

def KNN(learningset,testsetinp,k):
  testset = copy.deepcopy(testsetinp)
  l = []
  for x in range(len(testset)):
    neighbours = findneighbours(learningset,k,testset[x])
    mp = {0:0,1:0}
    for i in neighbours:
      if i[1] == 0:
        mp[0] = mp[0] + 1
      elif i[1] == 1:
        mp[1] = mp[1] + 1
    if mp[0] > mp[1]:
      l.append(0.0)
    else:
      l.append(1.0)
  return l

def Error(ds1,ds2):
  c = 0
  for i in range(len(ds1)):
    if ds1[i][2] != ds2[i]:
      c = c+1
  return c*100/len(ds2);

size = 1000
mean1 = [1,4]
cov1 = [[5,0],[0,5]]
mean2 = [1,4]
cov2 = [[5,0],[0,10]]
dataset = generatedataset(size,mean1,cov1,mean2,cov2)
sbn.scatterplot(dataset[:,0],dataset[:,1],hue = dataset[:,2],palette = ['red','blue']).set_title('Generated Dataset')
plt.show()

learnset,testset = splitdataset(dataset)
sbn.scatterplot(learnset[:,0],learnset[:,1],hue = learnset[:,2],palette = ['red','blue']).set_title('Learning Dataset')
plt.show()
sbn.scatterplot(testset[:,0],testset[:,1],hue = testset[:,2],palette = ['red','blue']).set_title('Actual Testing Set')
plt.show()

k = int(size/20)
predicted = KNN(learnset,testset,k)
sbn.scatterplot(testset[:,0],testset[:,1],hue = predicted,palette = ['red','blue']).set_title('Prediction')
plt.show()
print("Error in prediction : "+str(Error(testset,predicted))+"%")