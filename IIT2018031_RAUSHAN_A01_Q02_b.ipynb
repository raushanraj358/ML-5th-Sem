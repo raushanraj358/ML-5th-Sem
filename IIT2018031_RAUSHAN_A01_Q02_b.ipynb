

import pandas as pd 
import numpy as np 
import matplotlib.pyplot as plt 
import math
import seaborn as sbn
import copy
import random as rnd

def generatedataset(size,mean1,cov1,mean2,cov2): 
  np.random.seed(0) 
  n = int(size/2)
  Y1 = np.ones(n)*-1
  X1 = np.random.multivariate_normal(mean1,cov1,size=n)
  D1 = np.c_[X1,Y1]
  Y2 = np.ones(n)
  X2 = np.random.multivariate_normal(mean2,cov2,size=n)
  D2 = np.c_[X2,Y2] 
  dataset = np.concatenate((D1,D2),axis=0)
  np.random.shuffle(dataset)
  return dataset

def splitdataset(dataset):
  n = len(dataset)
  x = int(n/20)
  learnset = dataset[0:n-x]
  testset = dataset[n-x:n]
  return learnset,testset

def linearperceptron(learnset,n):
  w = np.zeros(len(learnset[0]))
  misclassified = []
  data = learnset[:,:-1]
  labels = learnset[:,-1]
  for epoch in range(n):
    miss = 0
    for i in range(len(data)):
      x = data[i]
      x = np.insert(x,0,1)
      if labels[i]*np.dot(w,x) <= 0:
        w = w + labels[i]*x
        miss = miss+1
    misclassified.append(miss)
  return w,misclassified

def predict(w,testset):
  data = testset[:,:-1]
  lbl = []
  for x in data:
    x = np.insert(x,0,1)
    y = np.dot(w,x)
    if y > 0:
      lbl.append(1.0)
    else:
      lbl.append(-1.0)
  sbn.scatterplot(data[:,0],data[:,1],hue = lbl,palette = ['red','blue']).set_title('Prediction')
  plt.show()
  return lbl

def Error(testset,lst):
  c = 0
  n = len(lst)
  for i in range(n):
    if testset[i][2] != lst[i]:
      c = c+1
  return c*100/n;

size = 1000
mean1 = [1,3]
mean2 = [3,1]
cov = [[0.33,0.1],[0.1,0.33]]
dataset = generatedataset(size,mean1,cov,mean2,cov)
sbn.scatterplot(dataset[:,0],dataset[:,1],hue = dataset[:,2],palette = ['red','blue']).set_title('Generated Dataset')
plt.show()

learnset,testset = splitdataset(dataset)
sbn.scatterplot(learnset[:,0],learnset[:,1],hue = learnset[:,2],palette = ['red','blue']).set_title('Learning Dataset')
plt.show()
sbn.scatterplot(testset[:,0],testset[:,1],hue = testset[:,2],palette = ['red','blue']).set_title('Actual Testing Set')
plt.show()

n = 180
w, misclassified = linearperceptron(learnset,n)
epochs = np.arange(n)
plt.plot(epochs,misclassified)
plt.xlabel('Iterations')
plt.ylabel('Misclassifications')
plt.show()

x = np.linspace(0,4,100)
y = -(w[1]*x+w[0])/w[2]
plt.plot(x,y)
sbn.scatterplot(learnset[:,0],learnset[:,1],hue = learnset[:,2],palette = ['red','blue']).set_title('Learning Dataset with separator')
plt.show()

lst = predict(w,testset)
print("Error in prediction : "+str(Error(testset,lst))+"%")