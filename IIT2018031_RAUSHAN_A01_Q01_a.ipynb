{
  "nbformat": 4,
  "nbformat_minor": 0,
  "metadata": {
    "colab": {
      "name": "question1_a_Norms.ipynb",
      "provenance": []
    },
    "kernelspec": {
      "name": "python3",
      "display_name": "Python 3"
    }
  },
  "cells": [
    {
      "cell_type": "code",
      "metadata": {
        "id": "8mydtGfpwi40",
        "colab_type": "code",
        "colab": {
          "base_uri": "https://localhost:8080/",
          "height": 67
        },
        "outputId": "068305f0-4bf9-41b4-98b3-ce48808640ef"
      },
      "source": [
        "\"Mahalanobis Distance\"\n",
        "\n",
        "import numpy as np\n",
        "\n",
        "x = np.array([[[1,2,3,4,5],\n",
        "               [5,6,7,8,5],\n",
        "               [5,6,7,8,5]],\n",
        "              [[11,22,23,24,5],\n",
        "               [25,26,27,28,5],\n",
        "               [5,6,7,8,5]]])\n",
        "i,j,k = x.shape\n",
        "\n",
        "xx = x.reshape(i,j*k).T\n",
        "\n",
        "\n",
        "y = np.array([[[31,32,33,34,5],\n",
        "               [35,36,37,38,5],\n",
        "               [5,6,7,8,5]],\n",
        "              [[41,42,43,44,5],\n",
        "               [45,46,47,48,5],\n",
        "               [5,6,7,8,5]]])\n",
        "\n",
        "\n",
        "yy = y.reshape(i,j*k).T\n",
        "\n",
        "def Mahalanobis(xx,yy):\n",
        "  X = np.vstack([xx,yy])\n",
        "  V = np.cov(X.T)\n",
        "  VI = np.linalg.inv(V)\n",
        "  print (np.diag(np.sqrt(np.dot(np.dot((xx-yy),VI),(xx-yy).T))))\n",
        "\n",
        "Mahalanobis(xx,yy)"
      ],
      "execution_count": null,
      "outputs": [
        {
          "output_type": "stream",
          "text": [
            "[2.28765854 2.75165028 2.75165028 2.75165028 0.         2.75165028\n",
            " 2.75165028 2.75165028 2.75165028 0.         0.         0.\n",
            " 0.         0.         0.        ]\n"
          ],
          "name": "stdout"
        }
      ]
    },
    {
      "cell_type": "code",
      "metadata": {
        "id": "DrzthCfB6dUj",
        "colab_type": "code",
        "colab": {
          "base_uri": "https://localhost:8080/",
          "height": 67
        },
        "outputId": "a02f02c9-f10f-41bf-830f-36e21478cf08"
      },
      "source": [
        "\" Bhattacharya Distance \"\n",
        "\n",
        "\n",
        "import math\n",
        "\n",
        "\n",
        "def bhattacharyya(a, b):\n",
        "    \n",
        "    if not len(a) == len(b):\n",
        "      raise ValueError(\"a and b must be of the same size\")\n",
        "    else:\n",
        "      print (-math.log(sum((math.sqrt(u * w) for u, w in zip(a, b)))))\n",
        "\n",
        "\n",
        "\n",
        "bhattacharyya([0.1, 0.9], [0.1, 0.9]) \n",
        "\n",
        "bhattacharyya([0.2, 0.8], [0.5, 0.5])\n",
        "\n",
        "bhattacharyya([0.1, 0.9], [0.5, 0.5])\n"
      ],
      "execution_count": null,
      "outputs": [
        {
          "output_type": "stream",
          "text": [
            "-0.0\n",
            "0.05268025782891318\n",
            "0.11157177565710491\n"
          ],
          "name": "stdout"
        }
      ]
    },
    {
      "cell_type": "code",
      "metadata": {
        "id": "1QdhR7AWIJ8V",
        "colab_type": "code",
        "colab": {}
      },
      "source": [
        "\"Algorithms with thier parameters to implement -\"\n",
        " k nearst neibhbor \n",
        " perceptron\n",
        " kernel perceptron\n",
        " SVM\n",
        " Hard SVM"
      ],
      "execution_count": null,
      "outputs": []
    },
    {
      "cell_type": "code",
      "metadata": {
        "id": "uYn8ZlxoP0m4",
        "colab_type": "code",
        "colab": {
          "base_uri": "https://localhost:8080/",
          "height": 229
        },
        "outputId": "099ce32e-333b-47bd-c9a9-d7131c7d8c88"
      },
      "source": [
        "\"A knn algorithm that takes in input as csv and number of neighbours as input\"\n",
        "\n",
        "from math import sqrt\n",
        "from csv import reader\n",
        "from sklearn import preprocessing\n",
        "\n",
        "#CSV Loading\n",
        "filename = 'dataset_1.csv'\n",
        "dataset = list()\n",
        "with open(filename, 'r') as file:\n",
        "\tcsv_reader = reader(file)\n",
        "\tfor row in csv_reader:\n",
        "\t\tif not row:\n",
        "\t\t\tcontinue\n",
        "\t\tdataset.append(row)\n",
        " \n",
        "\n",
        "\n",
        "#Conversions\n",
        "for row in dataset:\n",
        "\trow[column] = float(row[column].strip())\n",
        " \n",
        "\n",
        "class_values = [row[column] for row in dataset]\n",
        "unique = set(class_values)\n",
        "lookup = dict()\n",
        "for i, value in enumerate(unique):\n",
        "\tlookup[value] = i\n",
        "for row in dataset:\n",
        "\trow[column] = lookup[row[column]]\n",
        "\n",
        "\n",
        "dataset.describe()\n",
        "\n",
        "#Normalization\n",
        "scalar = MinMaxScaler()\n",
        "\n",
        "  \n",
        "#"
      ],
      "execution_count": null,
      "outputs": [
        {
          "output_type": "error",
          "ename": "NameError",
          "evalue": "ignored",
          "traceback": [
            "\u001b[0;31m---------------------------------------------------------------------------\u001b[0m",
            "\u001b[0;31mNameError\u001b[0m                                 Traceback (most recent call last)",
            "\u001b[0;32m<ipython-input-11-374c94200e1d>\u001b[0m in \u001b[0;36m<module>\u001b[0;34m()\u001b[0m\n\u001b[1;32m     19\u001b[0m \u001b[0;31m#Conversions\u001b[0m\u001b[0;34m\u001b[0m\u001b[0;34m\u001b[0m\u001b[0;34m\u001b[0m\u001b[0m\n\u001b[1;32m     20\u001b[0m \u001b[0;32mfor\u001b[0m \u001b[0mrow\u001b[0m \u001b[0;32min\u001b[0m \u001b[0mdataset\u001b[0m\u001b[0;34m:\u001b[0m\u001b[0;34m\u001b[0m\u001b[0;34m\u001b[0m\u001b[0m\n\u001b[0;32m---> 21\u001b[0;31m         \u001b[0mrow\u001b[0m\u001b[0;34m[\u001b[0m\u001b[0mcolumn\u001b[0m\u001b[0;34m]\u001b[0m \u001b[0;34m=\u001b[0m \u001b[0mfloat\u001b[0m\u001b[0;34m(\u001b[0m\u001b[0mrow\u001b[0m\u001b[0;34m[\u001b[0m\u001b[0mcolumn\u001b[0m\u001b[0;34m]\u001b[0m\u001b[0;34m.\u001b[0m\u001b[0mstrip\u001b[0m\u001b[0;34m(\u001b[0m\u001b[0;34m)\u001b[0m\u001b[0;34m)\u001b[0m\u001b[0;34m\u001b[0m\u001b[0;34m\u001b[0m\u001b[0m\n\u001b[0m\u001b[1;32m     22\u001b[0m \u001b[0;34m\u001b[0m\u001b[0m\n\u001b[1;32m     23\u001b[0m \u001b[0;34m\u001b[0m\u001b[0m\n",
            "\u001b[0;31mNameError\u001b[0m: name 'column' is not defined"
          ]
        }
      ]
    },
    {
      "cell_type": "code",
      "metadata": {
        "id": "-K52-Mzsyo6j",
        "colab_type": "code",
        "colab": {
          "base_uri": "https://localhost:8080/",
          "height": 278
        },
        "outputId": "6bcf5b87-a40d-4f30-be5c-16642be08cdb"
      },
      "source": [
        "\"Norm\"\n",
        "\n",
        "def get_norm(v,q):\n",
        "  sum = 0\n",
        "  for i in v:\n",
        "    sum += i ** q\n",
        "  return (sum*1.0)**(1.0/q)\n",
        "\n",
        "# Define a vector\n",
        "# creating an empty list \n",
        "lst = [] \n",
        "  \n",
        "# number of elemetns as input \n",
        "n = int(input(\"Enter number of elements : \")) \n",
        "  \n",
        "# iterating till the range \n",
        "for i in range(0, n): \n",
        "    ele = int(input()) \n",
        "    lst.append(ele) # adding the element \n",
        "#v = [2,3,1,0]\n",
        "# Take the q-norm which q=2\n",
        "q = 5\n",
        "print('The vector: ', lst)\n",
        "\n",
        "for i in range(1,q):\n",
        "    print('q: '+str(i))\n",
        "    v_norm = get_norm(lst,i)\n",
        "    print('The vector norm: ', v_norm)\n",
        "\n",
        "\n"
      ],
      "execution_count": 4,
      "outputs": [
        {
          "output_type": "stream",
          "text": [
            "Enter number of elements : 5\n",
            "1\n",
            "2\n",
            "3\n",
            "4\n",
            "5\n",
            "The vector:  [1, 2, 3, 4, 5]\n",
            "q: 1\n",
            "The vector norm:  5.360220495669696\n",
            "q: 2\n",
            "The vector norm:  5.360220495669696\n",
            "q: 3\n",
            "The vector norm:  5.360220495669696\n",
            "q: 4\n",
            "The vector norm:  5.360220495669696\n"
          ],
          "name": "stdout"
        }
      ]
    },
    {
      "cell_type": "code",
      "metadata": {
        "id": "w36xHBNdVqDh",
        "colab_type": "code",
        "colab": {}
      },
      "source": [
        "\"Knn Main\"\n",
        "\n",
        "def euclidean_distance(row1, row2):\n",
        "\tdistance = 0.0\n",
        "\tfor i in range(len(row1)-1):\n",
        "\t\tdistance += (row1[i] - row2[i])**2\n",
        "\treturn sqrt(distance)\n",
        " \n",
        "def get_neighbors(train, test_row, num_neighbors):\n",
        "\tdistances = list()\n",
        "\tfor train_row in train:\n",
        "\t\tdist = euclidean_distance(test_row, train_row)\n",
        "\t\tdistances.append((train_row, dist))\n",
        "\tdistances.sort(key=lambda tup: tup[1])\n",
        "\tneighbors = list()\n",
        "\tfor i in range(num_neighbors):\n",
        "\t\tneighbors.append(distances[i][0])\n",
        "\treturn neighbors\n",
        "\n",
        "dataset = [[2.7810836,2.550537003,0],\n",
        "\t[1.465489372,2.362125076,0],\n",
        "\t[3.396561688,4.400293529,0],\n",
        "\t[1.38807019,1.850220317,0],\n",
        "\t[3.06407232,3.005305973,0],\n",
        "\t[7.627531214,2.759262235,1],\n",
        "\t[5.332441248,2.088626775,1],\n",
        "\t[6.922596716,1.77106367,1],\n",
        "\t[8.675418651,-0.242068655,1],\n",
        "\t[7.673756466,3.508563011,1]]\n",
        "neighbors = get_neighbors(dataset, dataset[0], 3)\n",
        "for neighbor in neighbors:\n",
        "\tprint(neighbor)"
      ],
      "execution_count": null,
      "outputs": []
    }
  ]
}