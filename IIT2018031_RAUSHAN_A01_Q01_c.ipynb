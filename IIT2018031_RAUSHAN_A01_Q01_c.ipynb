{
  "nbformat": 4,
  "nbformat_minor": 0,
  "metadata": {
    "colab": {
      "name": "question1_c_Bhattacharya.ipynb",
      "provenance": [],
      "collapsed_sections": []
    },
    "kernelspec": {
      "name": "python3",
      "display_name": "Python 3"
    }
  },
  "cells": [
    {
      "cell_type": "code",
      "metadata": {
        "id": "BN17UAizbfgv",
        "colab_type": "code",
        "colab": {}
      },
      "source": [
        ""
      ],
      "execution_count": null,
      "outputs": []
    },
    {
      "cell_type": "code",
      "metadata": {
        "id": "DrzthCfB6dUj",
        "colab_type": "code",
        "colab": {
          "base_uri": "https://localhost:8080/",
          "height": 69
        },
        "outputId": "c98d6a2a-4428-41d2-d0f6-338f46129f99"
      },
      "source": [
        "\" Bhattacharya Distance \"\n",
        "\n",
        "\n",
        "import math\n",
        "\n",
        "\n",
        "def bhattacharyya(a, b):\n",
        "    \n",
        "    if not len(a) == len(b):\n",
        "      raise ValueError(\"a and b must be of the same size\")\n",
        "    else:\n",
        "      print (-math.log(sum((math.sqrt(u * w) for u, w in zip(a, b)))))\n",
        "\n",
        "\n",
        "\n",
        "bhattacharyya([0.1, 0.9], [0.1, 0.9]) \n",
        "\n",
        "bhattacharyya([0.2, 0.8], [0.5, 0.5])\n",
        "\n",
        "bhattacharyya([0.1, 0.9], [0.5, 0.5])\n"
      ],
      "execution_count": 15,
      "outputs": [
        {
          "output_type": "stream",
          "text": [
            "-0.0\n",
            "0.05268025782891318\n",
            "0.11157177565710491\n"
          ],
          "name": "stdout"
        }
      ]
    }
  ]
}